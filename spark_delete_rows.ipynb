{
 "cells": [
  {
   "cell_type": "code",
   "execution_count": 1,
   "metadata": {},
   "outputs": [],
   "source": [
    "# deleting seleted row using Spark\n",
    "from pyspark.sql import SparkSession\n",
    "from pyspark import SparkContext\n",
    "from pyspark import SparkConf\n",
    "from pyspark.sql import SQLContext\n",
    "import pyspark\n",
    "from pyspark.sql.functions import monotonically_increasing_id, row_number\n",
    "from pyspark.sql.window import Window\n",
    "import time"
   ]
  },
  {
   "cell_type": "code",
   "execution_count": 64,
   "metadata": {},
   "outputs": [
    {
     "data": {
      "text/plain": [
       "601200"
      ]
     },
     "execution_count": 64,
     "metadata": {},
     "output_type": "execute_result"
    }
   ],
   "source": [
    "spark = SparkSession\\\n",
    "    .builder\\\n",
    "    .appName(\"example-spark\").getOrCreate()\n",
    "    #.config(\"spark.sql.crossJoin.enabled\",\"true\")\\\n",
    "data = spark.read.csv('/Users/xue/Desktop/Farrago/NetLogix/OriginData/week_new.csv',\n",
    "                      header=True\n",
    "                     , inferSchema=True)\n",
    "data.count()"
   ]
  },
  {
   "cell_type": "code",
   "execution_count": 67,
   "metadata": {},
   "outputs": [],
   "source": [
    "def delete_rows(row, data):    \n",
    "    # create index column\n",
    "    data_with_index = data.withColumn('index', row_number().over(Window.orderBy(monotonically_increasing_id())) - 1)\n",
    "    # delete selected rows\n",
    "    for i in row:\n",
    "        data_with_index = data_with_index.filter('index != {}'.format(i))\n",
    "    data = data_with_index.drop('index')\n",
    "    return data"
   ]
  },
  {
   "cell_type": "code",
   "execution_count": 66,
   "metadata": {},
   "outputs": [
    {
     "name": "stdout",
     "output_type": "stream",
     "text": [
      "601197\n"
     ]
    }
   ],
   "source": [
    "data = delete_rows([1,2,3], data)"
   ]
  },
  {
   "cell_type": "code",
   "execution_count": null,
   "metadata": {},
   "outputs": [],
   "source": [
    "##########\n",
    "spark = SparkSession\\\n",
    "    .builder\\\n",
    "    .appName(\"example-spark\").getOrCreate()\n",
    "    #.config(\"spark.sql.crossJoin.enabled\",\"true\")\\\n",
    "data = spark.read.csv('/Users/xue/Desktop/Farrago/NetLogix/OriginData/week_new.csv',\n",
    "                      header=True\n",
    "                     , inferSchema=True)\n",
    "data.count()"
   ]
  }
 ],
 "metadata": {
  "kernelspec": {
   "display_name": "Python 3",
   "language": "python",
   "name": "python3"
  },
  "language_info": {
   "codemirror_mode": {
    "name": "ipython",
    "version": 3
   },
   "file_extension": ".py",
   "mimetype": "text/x-python",
   "name": "python",
   "nbconvert_exporter": "python",
   "pygments_lexer": "ipython3",
   "version": "3.7.3"
  }
 },
 "nbformat": 4,
 "nbformat_minor": 2
}
